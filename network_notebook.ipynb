{
 "cells": [
  {
   "cell_type": "markdown",
   "metadata": {},
   "source": [
    "[Stanford Large Network Dataset Collection](http://snap.stanford.edu/data/index.html)"
   ]
  },
  {
   "cell_type": "code",
   "execution_count": 40,
   "metadata": {},
   "outputs": [
    {
     "data": {
      "text/plain": [
       "load_edges_file (generic function with 1 method)"
      ]
     },
     "metadata": {},
     "output_type": "display_data"
    }
   ],
   "source": [
    "include(\"RandomGraphs/RandomGraphs.jl\")"
   ]
  },
  {
   "cell_type": "code",
   "execution_count": 41,
   "metadata": {},
   "outputs": [
    {
     "data": {
      "text/plain": [
       "G(4039, [1, 2, 3, 4, 5, 6, 7, 8, 9, 10  …  4030, 4031, 4032, 4033, 4034, 4035, 4036, 4037, 4038, 4039], [[2, 3, 4, 5, 6, 7, 8, 9, 10, 11  …  339, 340, 341, 342, 343, 344, 345, 346, 347, 348], [1, 49, 54, 55, 74, 89, 93, 120, 127, 134, 195, 237, 281, 300, 316, 323, 347], [1, 21, 116, 117, 150, 227, 313, 327, 334, 344], [1, 10, 26, 27, 68, 73, 86, 123, 143, 171, 189, 201, 229, 275, 281, 284, 324], [1, 79, 153, 182, 196, 219, 274, 276, 307, 329], [1, 88, 123, 157, 159, 170, 181, 188, 205, 214, 236, 316, 317], [1, 90, 96, 148, 220, 320], [1, 23, 32, 39, 66, 88, 104, 130, 137, 169, 214, 247, 292, 305, 309, 316, 323, 340, 341, 348], [1, 92, 111, 194, 202, 246, 260, 265], [1, 4, 22, 26, 27, 31, 57, 67, 68, 70  …  296, 298, 305, 316, 323, 324, 330, 335, 342, 343]  …  [3981, 4002], [3981, 3983, 3987, 3989, 3994, 3995, 3998, 4001, 4004, 4005, 4010, 4015, 4018, 4019, 4020, 4021, 4022, 4024, 4027], [595, 3981, 3992, 4003, 4005, 4012, 4014, 4021, 4024, 4028, 4039], [3981, 4028], [3981, 3987, 4001], [3981, 4024], [3981], [3981, 4000], [3981, 3983, 4015, 4021], [3981, 3990, 4005, 4014, 4015, 4021, 4024, 4028, 4032]])"
      ]
     },
     "metadata": {},
     "output_type": "display_data"
    }
   ],
   "source": [
    "fb = load_edges_file(\"real_networks/facebook_combined.txt\")"
   ]
  },
  {
   "cell_type": "code",
   "execution_count": 42,
   "metadata": {},
   "outputs": [
    {
     "data": {
      "text/plain": [
       "43.69101262688784"
      ]
     },
     "metadata": {},
     "output_type": "display_data"
    }
   ],
   "source": [
    "average_node_degree(fb)"
   ]
  },
  {
   "cell_type": "code",
   "execution_count": 44,
   "metadata": {},
   "outputs": [
    {
     "data": {
      "text/plain": [
       "3.691592636562027"
      ]
     },
     "metadata": {},
     "output_type": "display_data"
    }
   ],
   "source": [
    "sp = shortest_paths(fb)\n",
    "avg_sp = sum([sp[1][i]*sp[2][i] for i in 1:length(sp[1])])"
   ]
  }
 ],
 "metadata": {
  "kernelspec": {
   "display_name": "Julia 1.8.3",
   "language": "julia",
   "name": "julia-1.8"
  },
  "language_info": {
   "file_extension": ".jl",
   "mimetype": "application/julia",
   "name": "julia",
   "version": "1.8.3"
  },
  "orig_nbformat": 4,
  "vscode": {
   "interpreter": {
    "hash": "545e036c4b32438aced1f6b3c8d38ca151d9c36189e05839cb0aa568fda70ddd"
   }
  }
 },
 "nbformat": 4,
 "nbformat_minor": 2
}
